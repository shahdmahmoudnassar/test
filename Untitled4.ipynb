{
 "cells": [
  {
   "cell_type": "code",
   "execution_count": 2,
   "id": "529ba8e1-3f05-4ad4-b9a7-63b51824f788",
   "metadata": {},
   "outputs": [
    {
     "name": "stdout",
     "output_type": "stream",
     "text": [
      "Hidden Layer Input: [0.43986389 0.4721964 ]\n",
      "Hidden Layer Output: [0.41353161 0.43997225]\n",
      "Output Layer Input: [0.61095935 0.61095935]\n",
      "Final Output: [0.54480206 0.54480206]\n",
      "Error: [0.09892444 0.35684526]\n"
     ]
    }
   ],
   "source": [
    "import numpy as np\n",
    "\n",
    "def tanh_activation(x):\n",
    "    return np.tanh(x)\n",
    "\n",
    "def initialize_weights(shape):\n",
    "    return np.random.uniform(-0.5, 0.5, shape)\n",
    "\n",
    "def compute_error(target, output):\n",
    "    return 0.5 * (target - output) ** 2 \n",
    "\n",
    "\n",
    "input_size = 2 \n",
    "hidden_size = 2 \n",
    "output_size = 1  \n",
    "\n",
    "\n",
    "W1 = initialize_weights((input_size, hidden_size))\n",
    "b1 = np.array([0.5, 0.5])\n",
    "W2 = initialize_weights((hidden_size, output_size))\n",
    "b2 = np.array([0.7, 0.7])  \n",
    "\n",
    "\n",
    "X = np.array([0.3, -0.2])\n",
    "target = np.array([0.1, -0.3])\n",
    "\n",
    "\n",
    "hidden_input = np.dot(X, W1) + b1\n",
    "hidden_output = tanh_activation(hidden_input)\n",
    "output_input = np.dot(hidden_output, W2) + b2\n",
    "output = tanh_activation(output_input)\n",
    "\n",
    "\n",
    "error = compute_error(target, output)\n",
    "\n",
    "\n",
    "print(\"Hidden Layer Input:\", hidden_input)\n",
    "print(\"Hidden Layer Output:\", hidden_output)\n",
    "print(\"Output Layer Input:\", output_input)\n",
    "print(\"Final Output:\", output)\n",
    "print(\"Error:\",error)"
   ]
  },
  {
   "cell_type": "code",
   "execution_count": null,
   "id": "4be4877c-bfcc-49f0-a725-668024e19a24",
   "metadata": {},
   "outputs": [],
   "source": []
  }
 ],
 "metadata": {
  "kernelspec": {
   "display_name": "Python 3 (ipykernel)",
   "language": "python",
   "name": "python3"
  },
  "language_info": {
   "codemirror_mode": {
    "name": "ipython",
    "version": 3
   },
   "file_extension": ".py",
   "mimetype": "text/x-python",
   "name": "python",
   "nbconvert_exporter": "python",
   "pygments_lexer": "ipython3",
   "version": "3.12.7"
  }
 },
 "nbformat": 4,
 "nbformat_minor": 5
}
